{
 "cells": [
  {
   "cell_type": "code",
   "execution_count": 21,
   "metadata": {},
   "outputs": [],
   "source": [
    "from __future__ import print_function\n",
    "import os\n",
    "import random\n",
    "import torch\n",
    "import torch.nn as nn\n",
    "import torch.nn.parallel\n",
    "import torch.backends.cudnn as cudnn\n",
    "import torch.optim as optim\n",
    "import torch.utils.data\n",
    "import torchvision.datasets as dset\n",
    "import torchvision.transforms as transforms\n",
    "import torchvision.utils as vutils\n",
    "from torch.autograd import Variable\n",
    "\n",
    "from torchvision.utils import make_grid\n",
    "import matplotlib.pyplot as plt\n",
    "import numpy as np"
   ]
  },
  {
   "cell_type": "code",
   "execution_count": 22,
   "metadata": {},
   "outputs": [],
   "source": [
    "%matplotlib inline\n",
    "def show(img):\n",
    "    npimg = img.numpy()\n",
    "    npimg = npimg-np.amin(npimg)\n",
    "    npimg = npimg/np.amax(npimg)\n",
    "    plt.figure(figsize=(11,11))\n",
    "    plt.imshow(np.transpose(npimg, (1,2,0)))\n",
    "    plt.axis(\"off\")\n",
    "        \n",
    "    plt.show()"
   ]
  },
  {
   "cell_type": "code",
   "execution_count": 24,
   "metadata": {},
   "outputs": [],
   "source": [
    "# pip ins# We will save the results here\n",
    "outf=\"./dcgan_results\""
   ]
  },
  {
   "cell_type": "code",
   "execution_count": 26,
   "metadata": {},
   "outputs": [
    {
     "name": "stdout",
     "output_type": "stream",
     "text": [
      "Random Seed:  4532\n"
     ]
    }
   ],
   "source": [
    "#manualSeed = random.randint(1, 10000)\n",
    "manualSeed = 4532\n",
    "print(\"Random Seed: \", manualSeed)\n",
    "random.seed(manualSeed)\n",
    "\n",
    "torch.manual_seed(manualSeed)\n",
    "cudnn.benchmark = True\n",
    "\n",
    "use_cuda=True\n",
    "if use_cuda:\n",
    "    torch.cuda.manual_seed_all(manualSeed)\n",
    "\n",
    "if torch.cuda.is_available() and not use_cuda:\n",
    "    print(\"WARNING: You have a CUDA device, so you should probably run with --cuda\")"
   ]
  },
  {
   "cell_type": "code",
   "execution_count": 46,
   "metadata": {},
   "outputs": [
    {
     "data": {
      "text/plain": [
       "['resized_image22.jpg',\n",
       " 'resized_image36.jpg',\n",
       " 'resized_image148.jpg',\n",
       " 'resized_image149.jpg',\n",
       " 'resized_image37.jpg',\n",
       " 'resized_image23.jpg',\n",
       " 'resized_image35.jpg',\n",
       " 'resized_image21.jpg',\n",
       " 'resized_image20.jpg',\n",
       " 'resized_image34.jpg',\n",
       " 'resized_image8.jpg',\n",
       " 'resized_image18.jpg',\n",
       " 'resized_image30.jpg',\n",
       " 'resized_image24.jpg',\n",
       " 'resized_image25.jpg',\n",
       " 'resized_image31.jpg',\n",
       " 'resized_image19.jpg',\n",
       " 'resized_image9.jpg',\n",
       " 'resized_image27.jpg',\n",
       " 'resized_image33.jpg',\n",
       " 'resized_image32.jpg',\n",
       " 'resized_image26.jpg',\n",
       " 'resized_image82.jpg',\n",
       " 'resized_image96.jpg',\n",
       " 'resized_image41.jpg',\n",
       " 'resized_image55.jpg',\n",
       " 'resized_image69.jpg',\n",
       " 'resized_image117.jpg',\n",
       " 'resized_image103.jpg',\n",
       " 'resized_image102.jpg',\n",
       " 'resized_image116.jpg',\n",
       " 'resized_image68.jpg',\n",
       " 'resized_image54.jpg',\n",
       " 'resized_image40.jpg',\n",
       " 'resized_image97.jpg',\n",
       " 'resized_image83.jpg',\n",
       " 'resized_image95.jpg',\n",
       " 'resized_image81.jpg',\n",
       " 'resized_image56.jpg',\n",
       " 'resized_image42.jpg',\n",
       " 'resized_image100.jpg',\n",
       " 'resized_image114.jpg',\n",
       " 'resized_image128.jpg',\n",
       " 'resized_image129.jpg',\n",
       " 'resized_image115.jpg',\n",
       " 'resized_image101.jpg',\n",
       " 'resized_image43.jpg',\n",
       " 'resized_image57.jpg',\n",
       " 'resized_image80.jpg',\n",
       " 'resized_image94.jpg',\n",
       " 'resized_image90.jpg',\n",
       " 'resized_image84.jpg',\n",
       " 'resized_image53.jpg',\n",
       " 'resized_image47.jpg',\n",
       " 'resized_image139.jpg',\n",
       " 'resized_image105.jpg',\n",
       " 'resized_image111.jpg',\n",
       " 'resized_image110.jpg',\n",
       " 'resized_image104.jpg',\n",
       " 'resized_image138.jpg',\n",
       " 'resized_image46.jpg',\n",
       " 'resized_image52.jpg',\n",
       " 'resized_image85.jpg',\n",
       " 'resized_image91.jpg',\n",
       " 'resized_image87.jpg',\n",
       " 'resized_image93.jpg',\n",
       " 'resized_image78.jpg',\n",
       " 'resized_image44.jpg',\n",
       " 'resized_image50.jpg',\n",
       " 'resized_image112.jpg',\n",
       " 'resized_image106.jpg',\n",
       " 'resized_image107.jpg',\n",
       " 'resized_image113.jpg',\n",
       " 'resized_image51.jpg',\n",
       " 'resized_image45.jpg',\n",
       " 'resized_image79.jpg',\n",
       " 'resized_image92.jpg',\n",
       " 'resized_image86.jpg',\n",
       " 'resized_image60.jpg',\n",
       " 'resized_image74.jpg',\n",
       " 'resized_image48.jpg',\n",
       " 'resized_image136.jpg',\n",
       " 'resized_image122.jpg',\n",
       " 'resized_image123.jpg',\n",
       " 'resized_image137.jpg',\n",
       " 'resized_image49.jpg',\n",
       " 'resized_image75.jpg',\n",
       " 'resized_image61.jpg',\n",
       " 'resized_image88.jpg',\n",
       " 'resized_image77.jpg',\n",
       " 'resized_image63.jpg',\n",
       " 'resized_image121.jpg',\n",
       " 'resized_image135.jpg',\n",
       " 'resized_image109.jpg',\n",
       " 'resized_image108.jpg',\n",
       " 'resized_image134.jpg',\n",
       " 'resized_image120.jpg',\n",
       " 'resized_image62.jpg',\n",
       " 'resized_image76.jpg',\n",
       " 'resized_image89.jpg',\n",
       " 'resized_image99.jpg',\n",
       " 'resized_image72.jpg',\n",
       " 'resized_image66.jpg',\n",
       " 'resized_image118.jpg',\n",
       " 'resized_image124.jpg',\n",
       " 'resized_image130.jpg',\n",
       " 'resized_image131.jpg',\n",
       " 'resized_image125.jpg',\n",
       " 'resized_image119.jpg',\n",
       " 'resized_image67.jpg',\n",
       " 'resized_image73.jpg',\n",
       " 'resized_image98.jpg',\n",
       " 'resized_image59.jpg',\n",
       " 'resized_image65.jpg',\n",
       " 'resized_image71.jpg',\n",
       " 'resized_image133.jpg',\n",
       " 'resized_image127.jpg',\n",
       " 'resized_image126.jpg',\n",
       " 'resized_image132.jpg',\n",
       " 'resized_image70.jpg',\n",
       " 'resized_image64.jpg',\n",
       " 'resized_image58.jpg',\n",
       " 'resized_image7.jpg',\n",
       " 'resized_image17.jpg',\n",
       " 'resized_image141.jpg',\n",
       " 'resized_image140.jpg',\n",
       " 'resized_image16.jpg',\n",
       " 'resized_image6.jpg',\n",
       " 'resized_image4.jpg',\n",
       " 'resized_image14.jpg',\n",
       " 'resized_image28.jpg',\n",
       " 'resized_image142.jpg',\n",
       " 'resized_image143.jpg',\n",
       " 'resized_image29.jpg',\n",
       " 'resized_image15.jpg',\n",
       " 'resized_image5.jpg',\n",
       " 'resized_image1.jpg',\n",
       " 'resized_image39.jpg',\n",
       " 'resized_image11.jpg',\n",
       " 'resized_image147.jpg',\n",
       " 'resized_image146.jpg',\n",
       " 'resized_image10.jpg',\n",
       " 'resized_image38.jpg',\n",
       " 'resized_image0.jpg',\n",
       " 'resized_image2.jpg',\n",
       " 'resized_image12.jpg',\n",
       " 'resized_image144.jpg',\n",
       " 'resized_image145.jpg',\n",
       " 'resized_image13.jpg',\n",
       " 'resized_image3.jpg']"
      ]
     },
     "execution_count": 46,
     "metadata": {},
     "output_type": "execute_result"
    }
   ],
   "source": [
    "from os import listdir\n",
    "from os.path import isfile, join\n",
    "# onlyfiles = [f for f in listdir(mypath) if isfile(join(mypath, f))]\n",
    "listdir('/Users/cedriczhao/Documents/GitHub/dsc160-code/dsc160-final-404-not-found-1/data/sp')"
   ]
  },
  {
   "cell_type": "code",
   "execution_count": 44,
   "metadata": {},
   "outputs": [
    {
     "data": {
      "text/plain": [
       "'/Users/cedriczhao/Documents/GitHub/dsc160-code/dsc160-final-404-not-found-1/code'"
      ]
     },
     "execution_count": 44,
     "metadata": {},
     "output_type": "execute_result"
    }
   ],
   "source": [
    "pwd"
   ]
  },
  {
   "cell_type": "code",
   "execution_count": 48,
   "metadata": {},
   "outputs": [
    {
     "ename": "RuntimeError",
     "evalue": "Found 0 files in subfolders of: /Users/cedriczhao/Documents/GitHub/dsc160-code/dsc160-final-404-not-found-1/data/superheroes\nSupported extensions are: .jpg,.jpeg,.png,.ppm,.bmp,.pgm,.tif,.tiff,.webp",
     "output_type": "error",
     "traceback": [
      "\u001b[0;31m---------------------------------------------------------------------------\u001b[0m",
      "\u001b[0;31mRuntimeError\u001b[0m                              Traceback (most recent call last)",
      "\u001b[0;32m<ipython-input-48-ec1d04a018da>\u001b[0m in \u001b[0;36m<module>\u001b[0;34m\u001b[0m\n\u001b[1;32m      9\u001b[0m                                    \u001b[0mtransforms\u001b[0m\u001b[0;34m.\u001b[0m\u001b[0mCenterCrop\u001b[0m\u001b[0;34m(\u001b[0m\u001b[0mimageSize\u001b[0m\u001b[0;34m)\u001b[0m\u001b[0;34m,\u001b[0m\u001b[0;34m\u001b[0m\u001b[0m\n\u001b[1;32m     10\u001b[0m                                    \u001b[0mtransforms\u001b[0m\u001b[0;34m.\u001b[0m\u001b[0mToTensor\u001b[0m\u001b[0;34m(\u001b[0m\u001b[0;34m)\u001b[0m\u001b[0;34m,\u001b[0m\u001b[0;34m\u001b[0m\u001b[0m\n\u001b[0;32m---> 11\u001b[0;31m                                    \u001b[0mtransforms\u001b[0m\u001b[0;34m.\u001b[0m\u001b[0mNormalize\u001b[0m\u001b[0;34m(\u001b[0m\u001b[0;34m(\u001b[0m\u001b[0;36m0.5\u001b[0m\u001b[0;34m,\u001b[0m \u001b[0;36m0.5\u001b[0m\u001b[0;34m,\u001b[0m \u001b[0;36m0.5\u001b[0m\u001b[0;34m)\u001b[0m\u001b[0;34m,\u001b[0m \u001b[0;34m(\u001b[0m\u001b[0;36m0.5\u001b[0m\u001b[0;34m,\u001b[0m \u001b[0;36m0.5\u001b[0m\u001b[0;34m,\u001b[0m \u001b[0;36m0.5\u001b[0m\u001b[0;34m)\u001b[0m\u001b[0;34m)\u001b[0m\u001b[0;34m,\u001b[0m\u001b[0;34m\u001b[0m\u001b[0m\n\u001b[0m\u001b[1;32m     12\u001b[0m                                ]))\n",
      "\u001b[0;32m/Library/Frameworks/Python.framework/Versions/3.6/lib/python3.6/site-packages/torchvision/datasets/folder.py\u001b[0m in \u001b[0;36m__init__\u001b[0;34m(self, root, transform, target_transform, loader, is_valid_file)\u001b[0m\n\u001b[1;32m    204\u001b[0m                                           \u001b[0mtransform\u001b[0m\u001b[0;34m=\u001b[0m\u001b[0mtransform\u001b[0m\u001b[0;34m,\u001b[0m\u001b[0;34m\u001b[0m\u001b[0m\n\u001b[1;32m    205\u001b[0m                                           \u001b[0mtarget_transform\u001b[0m\u001b[0;34m=\u001b[0m\u001b[0mtarget_transform\u001b[0m\u001b[0;34m,\u001b[0m\u001b[0;34m\u001b[0m\u001b[0m\n\u001b[0;32m--> 206\u001b[0;31m                                           is_valid_file=is_valid_file)\n\u001b[0m\u001b[1;32m    207\u001b[0m         \u001b[0mself\u001b[0m\u001b[0;34m.\u001b[0m\u001b[0mimgs\u001b[0m \u001b[0;34m=\u001b[0m \u001b[0mself\u001b[0m\u001b[0;34m.\u001b[0m\u001b[0msamples\u001b[0m\u001b[0;34m\u001b[0m\u001b[0m\n",
      "\u001b[0;32m/Library/Frameworks/Python.framework/Versions/3.6/lib/python3.6/site-packages/torchvision/datasets/folder.py\u001b[0m in \u001b[0;36m__init__\u001b[0;34m(self, root, loader, extensions, transform, target_transform, is_valid_file)\u001b[0m\n\u001b[1;32m     96\u001b[0m         \u001b[0;32mif\u001b[0m \u001b[0mlen\u001b[0m\u001b[0;34m(\u001b[0m\u001b[0msamples\u001b[0m\u001b[0;34m)\u001b[0m \u001b[0;34m==\u001b[0m \u001b[0;36m0\u001b[0m\u001b[0;34m:\u001b[0m\u001b[0;34m\u001b[0m\u001b[0m\n\u001b[1;32m     97\u001b[0m             raise (RuntimeError(\"Found 0 files in subfolders of: \" + self.root + \"\\n\"\n\u001b[0;32m---> 98\u001b[0;31m                                 \"Supported extensions are: \" + \",\".join(extensions)))\n\u001b[0m\u001b[1;32m     99\u001b[0m \u001b[0;34m\u001b[0m\u001b[0m\n\u001b[1;32m    100\u001b[0m         \u001b[0mself\u001b[0m\u001b[0;34m.\u001b[0m\u001b[0mloader\u001b[0m \u001b[0;34m=\u001b[0m \u001b[0mloader\u001b[0m\u001b[0;34m\u001b[0m\u001b[0m\n",
      "\u001b[0;31mRuntimeError\u001b[0m: Found 0 files in subfolders of: /Users/cedriczhao/Documents/GitHub/dsc160-code/dsc160-final-404-not-found-1/data/superheroes\nSupported extensions are: .jpg,.jpeg,.png,.ppm,.bmp,.pgm,.tif,.tiff,.webp"
     ]
    }
   ],
   "source": [
    "imageSize = 64 # square images for now!\n",
    "dataroot = \"/Users/cedriczhao/Documents/GitHub/dsc160-code/dsc160-final-404-not-found-1/data/superheroes\"\n",
    "#dataroot = \"./geom_pics_dataset\"\n",
    "\n",
    "# folder dataset\n",
    "dataset = dset.ImageFolder(root=dataroot,\n",
    "                               transform=transforms.Compose([\n",
    "                                   transforms.Scale(imageSize),\n",
    "                                   transforms.CenterCrop(imageSize),\n",
    "                                   transforms.ToTensor(),\n",
    "                                   transforms.Normalize((0.5, 0.5, 0.5), (0.5, 0.5, 0.5)),\n",
    "                               ]))"
   ]
  },
  {
   "cell_type": "code",
   "execution_count": null,
   "metadata": {},
   "outputs": [],
   "source": []
  }
 ],
 "metadata": {
  "kernelspec": {
   "display_name": "Python 3",
   "language": "python",
   "name": "python3"
  },
  "language_info": {
   "codemirror_mode": {
    "name": "ipython",
    "version": 3
   },
   "file_extension": ".py",
   "mimetype": "text/x-python",
   "name": "python",
   "nbconvert_exporter": "python",
   "pygments_lexer": "ipython3",
   "version": "3.6.2"
  }
 },
 "nbformat": 4,
 "nbformat_minor": 2
}
